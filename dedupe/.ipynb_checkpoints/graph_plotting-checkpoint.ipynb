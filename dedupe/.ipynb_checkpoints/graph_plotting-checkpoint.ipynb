{
 "cells": [
  {
   "cell_type": "code",
   "execution_count": 1,
   "metadata": {
    "collapsed": true
   },
   "outputs": [],
   "source": [
    "import numpy as np\n",
    "import pandas as pd\n",
    "import networkx as nx\n",
    "import matplotlib.pyplot as plt\n",
    "import googlemaps\n",
    "from datetime import datetime"
   ]
  },
  {
   "cell_type": "markdown",
   "metadata": {},
   "source": [
    "## import data"
   ]
  },
  {
   "cell_type": "code",
   "execution_count": 2,
   "metadata": {},
   "outputs": [
    {
     "data": {
      "text/html": [
       "<div>\n",
       "<style>\n",
       "    .dataframe thead tr:only-child th {\n",
       "        text-align: right;\n",
       "    }\n",
       "\n",
       "    .dataframe thead th {\n",
       "        text-align: left;\n",
       "    }\n",
       "\n",
       "    .dataframe tbody tr th {\n",
       "        vertical-align: top;\n",
       "    }\n",
       "</style>\n",
       "<table border=\"1\" class=\"dataframe\">\n",
       "  <thead>\n",
       "    <tr style=\"text-align: right;\">\n",
       "      <th></th>\n",
       "      <th>Cluster ID</th>\n",
       "      <th>Id</th>\n",
       "      <th>Source</th>\n",
       "      <th>Site name</th>\n",
       "      <th>Address</th>\n",
       "      <th>Zip</th>\n",
       "      <th>Phone</th>\n",
       "      <th>Fax</th>\n",
       "      <th>Program Name</th>\n",
       "      <th>Length of Day</th>\n",
       "      <th>...</th>\n",
       "      <th>Executive Director</th>\n",
       "      <th>Center Director</th>\n",
       "      <th>ECE Available Programs</th>\n",
       "      <th>NAEYC Valid Until</th>\n",
       "      <th>NAEYC Program Id</th>\n",
       "      <th>Email Address</th>\n",
       "      <th>Ounce of Prevention Description</th>\n",
       "      <th>Purple binder service type</th>\n",
       "      <th>Column</th>\n",
       "      <th>Column2</th>\n",
       "    </tr>\n",
       "  </thead>\n",
       "  <tbody>\n",
       "    <tr>\n",
       "      <th>0</th>\n",
       "      <td>0</td>\n",
       "      <td>0</td>\n",
       "      <td>cps_early_childhood_portal_scrape.csv</td>\n",
       "      <td>salvation army - temple / salvation army</td>\n",
       "      <td>1 n ogden ave</td>\n",
       "      <td>NaN</td>\n",
       "      <td>2262649.0</td>\n",
       "      <td>NaN</td>\n",
       "      <td>child care</td>\n",
       "      <td>extended day</td>\n",
       "      <td>...</td>\n",
       "      <td>NaN</td>\n",
       "      <td>NaN</td>\n",
       "      <td>NaN</td>\n",
       "      <td>NaN</td>\n",
       "      <td>NaN</td>\n",
       "      <td>NaN</td>\n",
       "      <td>NaN</td>\n",
       "      <td>NaN</td>\n",
       "      <td>NaN</td>\n",
       "      <td>NaN</td>\n",
       "    </tr>\n",
       "    <tr>\n",
       "      <th>1</th>\n",
       "      <td>0</td>\n",
       "      <td>1</td>\n",
       "      <td>cps_early_childhood_portal_scrape.csv</td>\n",
       "      <td>salvation army - temple / salvation army</td>\n",
       "      <td>1 n ogden ave</td>\n",
       "      <td>NaN</td>\n",
       "      <td>2262649.0</td>\n",
       "      <td>NaN</td>\n",
       "      <td>child care</td>\n",
       "      <td>extended day</td>\n",
       "      <td>...</td>\n",
       "      <td>NaN</td>\n",
       "      <td>NaN</td>\n",
       "      <td>NaN</td>\n",
       "      <td>NaN</td>\n",
       "      <td>NaN</td>\n",
       "      <td>NaN</td>\n",
       "      <td>NaN</td>\n",
       "      <td>NaN</td>\n",
       "      <td>NaN</td>\n",
       "      <td>NaN</td>\n",
       "    </tr>\n",
       "    <tr>\n",
       "      <th>2</th>\n",
       "      <td>0</td>\n",
       "      <td>215</td>\n",
       "      <td>cps_early_childhood_portal_scrape.csv</td>\n",
       "      <td>salvation army temple</td>\n",
       "      <td>1 n. ogden</td>\n",
       "      <td>NaN</td>\n",
       "      <td>2262649.0</td>\n",
       "      <td>NaN</td>\n",
       "      <td>community partnerships</td>\n",
       "      <td>8-11 hours, varies by facility</td>\n",
       "      <td>...</td>\n",
       "      <td>NaN</td>\n",
       "      <td>NaN</td>\n",
       "      <td>NaN</td>\n",
       "      <td>NaN</td>\n",
       "      <td>NaN</td>\n",
       "      <td>NaN</td>\n",
       "      <td>NaN</td>\n",
       "      <td>NaN</td>\n",
       "      <td>NaN</td>\n",
       "      <td>NaN</td>\n",
       "    </tr>\n",
       "    <tr>\n",
       "      <th>3</th>\n",
       "      <td>0</td>\n",
       "      <td>509</td>\n",
       "      <td>cps_early_childhood_portal_scrape.csv</td>\n",
       "      <td>salvation army - temple / salvation army</td>\n",
       "      <td>1 n ogden ave</td>\n",
       "      <td>NaN</td>\n",
       "      <td>2262649.0</td>\n",
       "      <td>NaN</td>\n",
       "      <td>head start</td>\n",
       "      <td>half day/full day</td>\n",
       "      <td>...</td>\n",
       "      <td>NaN</td>\n",
       "      <td>NaN</td>\n",
       "      <td>NaN</td>\n",
       "      <td>NaN</td>\n",
       "      <td>NaN</td>\n",
       "      <td>NaN</td>\n",
       "      <td>NaN</td>\n",
       "      <td>NaN</td>\n",
       "      <td>NaN</td>\n",
       "      <td>NaN</td>\n",
       "    </tr>\n",
       "    <tr>\n",
       "      <th>4</th>\n",
       "      <td>0</td>\n",
       "      <td>510</td>\n",
       "      <td>cps_early_childhood_portal_scrape.csv</td>\n",
       "      <td>salvation army - temple / salvation army</td>\n",
       "      <td>1 n ogden ave</td>\n",
       "      <td>NaN</td>\n",
       "      <td>2262649.0</td>\n",
       "      <td>NaN</td>\n",
       "      <td>head start</td>\n",
       "      <td>half day/full day</td>\n",
       "      <td>...</td>\n",
       "      <td>NaN</td>\n",
       "      <td>NaN</td>\n",
       "      <td>NaN</td>\n",
       "      <td>NaN</td>\n",
       "      <td>NaN</td>\n",
       "      <td>NaN</td>\n",
       "      <td>NaN</td>\n",
       "      <td>NaN</td>\n",
       "      <td>NaN</td>\n",
       "      <td>NaN</td>\n",
       "    </tr>\n",
       "  </tbody>\n",
       "</table>\n",
       "<p>5 rows × 33 columns</p>\n",
       "</div>"
      ],
      "text/plain": [
       "   Cluster ID   Id                                 Source  \\\n",
       "0           0    0  cps_early_childhood_portal_scrape.csv   \n",
       "1           0    1  cps_early_childhood_portal_scrape.csv   \n",
       "2           0  215  cps_early_childhood_portal_scrape.csv   \n",
       "3           0  509  cps_early_childhood_portal_scrape.csv   \n",
       "4           0  510  cps_early_childhood_portal_scrape.csv   \n",
       "\n",
       "                                  Site name        Address  Zip      Phone  \\\n",
       "0  salvation army - temple / salvation army  1 n ogden ave  NaN  2262649.0   \n",
       "1  salvation army - temple / salvation army  1 n ogden ave  NaN  2262649.0   \n",
       "2                     salvation army temple     1 n. ogden  NaN  2262649.0   \n",
       "3  salvation army - temple / salvation army  1 n ogden ave  NaN  2262649.0   \n",
       "4  salvation army - temple / salvation army  1 n ogden ave  NaN  2262649.0   \n",
       "\n",
       "   Fax            Program Name                   Length of Day   ...    \\\n",
       "0  NaN              child care                    extended day   ...     \n",
       "1  NaN              child care                    extended day   ...     \n",
       "2  NaN  community partnerships  8-11 hours, varies by facility   ...     \n",
       "3  NaN              head start               half day/full day   ...     \n",
       "4  NaN              head start               half day/full day   ...     \n",
       "\n",
       "  Executive Director Center Director ECE Available Programs NAEYC Valid Until  \\\n",
       "0                NaN             NaN                    NaN               NaN   \n",
       "1                NaN             NaN                    NaN               NaN   \n",
       "2                NaN             NaN                    NaN               NaN   \n",
       "3                NaN             NaN                    NaN               NaN   \n",
       "4                NaN             NaN                    NaN               NaN   \n",
       "\n",
       "  NAEYC Program Id Email Address Ounce of Prevention Description  \\\n",
       "0              NaN           NaN                             NaN   \n",
       "1              NaN           NaN                             NaN   \n",
       "2              NaN           NaN                             NaN   \n",
       "3              NaN           NaN                             NaN   \n",
       "4              NaN           NaN                             NaN   \n",
       "\n",
       "   Purple binder service type  Column Column2  \n",
       "0                         NaN     NaN     NaN  \n",
       "1                         NaN     NaN     NaN  \n",
       "2                         NaN     NaN     NaN  \n",
       "3                         NaN     NaN     NaN  \n",
       "4                         NaN     NaN     NaN  \n",
       "\n",
       "[5 rows x 33 columns]"
      ]
     },
     "execution_count": 2,
     "metadata": {},
     "output_type": "execute_result"
    }
   ],
   "source": [
    "raw = pd.read_csv('output.csv')\n",
    "raw.head()"
   ]
  },
  {
   "cell_type": "code",
   "execution_count": 60,
   "metadata": {},
   "outputs": [
    {
     "name": "stdout",
     "output_type": "stream",
     "text": [
      "total number of elements =  2693\n",
      "number of unique entries =  740\n"
     ]
    }
   ],
   "source": [
    "print('total number of elements = ', raw.shape[0])\n",
    "print('number of unique entries = ', raw['Cluster ID'].unique().shape[0])"
   ]
  },
  {
   "cell_type": "markdown",
   "metadata": {},
   "source": [
    "## Google maps distances\n",
    "Get an API key from Google [here](https://console.developers.google.com/apis/)."
   ]
  },
  {
   "cell_type": "code",
   "execution_count": 9,
   "metadata": {},
   "outputs": [],
   "source": [
    "now = datetime.now()\n",
    "gmaps = googlemaps.Client(key='')"
   ]
  },
  {
   "cell_type": "code",
   "execution_count": 48,
   "metadata": {},
   "outputs": [
    {
     "data": {
      "text/plain": [
       "3485"
      ]
     },
     "execution_count": 48,
     "metadata": {},
     "output_type": "execute_result"
    }
   ],
   "source": [
    "gmaps.distance_matrix(\"1 n ogden ave chicago illinois usa\",\n",
    "                                     \"10 s. kedzie chicago illinois usa\",\n",
    "                                     mode=\"transit\",\n",
    "                                     departure_time=now)['rows'][0]['elements'][0]['distance']['value']"
   ]
  },
  {
   "cell_type": "code",
   "execution_count": 66,
   "metadata": {},
   "outputs": [
    {
     "data": {
      "text/plain": [
       "Cluster ID                                                                        10\n",
       "Id                                                                                18\n",
       "Source                                         cps_early_childhood_portal_scrape.csv\n",
       "Site name                          south east asia center - south-east asia cente...\n",
       "Address                                                            1124 w ainslie st\n",
       "Zip                                                                              NaN\n",
       "Phone                                                                    9.89743e+06\n",
       "Fax                                                                              NaN\n",
       "Program Name                                                              child care\n",
       "Length of Day                                                           extended day\n",
       "IDHS Provider ID                                                                 NaN\n",
       "Agency                                                                           NaN\n",
       "Neighborhood                                                                     NaN\n",
       "Funded Enrollment                                                                NaN\n",
       "Program Option                                                                   NaN\n",
       "Number per Site EHS                                                              NaN\n",
       "Number per Site HS                                                               NaN\n",
       "Director                                                                         NaN\n",
       "Head Start Fund                                                                  NaN\n",
       "Eearly Head Start Fund                                                           NaN\n",
       "CC fund                                                                          NaN\n",
       "Progmod                                                                          NaN\n",
       "Website                                                                          NaN\n",
       "Executive Director                                                               NaN\n",
       "Center Director                                                                  NaN\n",
       "ECE Available Programs                                                           NaN\n",
       "NAEYC Valid Until                                                                NaN\n",
       "NAEYC Program Id                                                                 NaN\n",
       "Email Address                                                                    NaN\n",
       "Ounce of Prevention Description                                                  NaN\n",
       "Purple binder service type                                                       NaN\n",
       "Column                                                                           NaN\n",
       "Column2                                                                          NaN\n",
       "Name: 68, dtype: object"
      ]
     },
     "execution_count": 66,
     "metadata": {},
     "output_type": "execute_result"
    }
   ],
   "source": [
    "raw[raw['Cluster ID'] == 10].iloc[0]"
   ]
  },
  {
   "cell_type": "markdown",
   "metadata": {},
   "source": [
    "After building a loop to get the distances between schools on a map, I realized I was attempting to hammer Google's API server 7 million times. That'll cost ya. So I deleted the logic and I'll simply use a competely fake distance measure based on the row indices and the cluster indices."
   ]
  },
  {
   "cell_type": "markdown",
   "metadata": {},
   "source": [
    "## Build Graph"
   ]
  },
  {
   "cell_type": "code",
   "execution_count": 72,
   "metadata": {
    "collapsed": true
   },
   "outputs": [],
   "source": [
    "graph = nx.Graph()"
   ]
  },
  {
   "cell_type": "code",
   "execution_count": 79,
   "metadata": {},
   "outputs": [],
   "source": [
    "# add nodes\n",
    "for i in range(raw.shape[0]):\n",
    "    graph.add_node(list(raw['Id'])[i], name=list(raw['Id'])[i])\n",
    "    \n",
    "# add edges\n",
    "for i in "
   ]
  },
  {
   "cell_type": "code",
   "execution_count": null,
   "metadata": {
    "collapsed": true
   },
   "outputs": [],
   "source": []
  }
 ],
 "metadata": {
  "kernelspec": {
   "display_name": "Python 3",
   "language": "python",
   "name": "python3"
  },
  "language_info": {
   "codemirror_mode": {
    "name": "ipython",
    "version": 3
   },
   "file_extension": ".py",
   "mimetype": "text/x-python",
   "name": "python",
   "nbconvert_exporter": "python",
   "pygments_lexer": "ipython3",
   "version": "3.6.2"
  }
 },
 "nbformat": 4,
 "nbformat_minor": 2
}
