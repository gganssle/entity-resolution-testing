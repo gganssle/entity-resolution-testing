{
 "cells": [
  {
   "cell_type": "code",
   "execution_count": 7,
   "metadata": {
    "collapsed": true
   },
   "outputs": [],
   "source": [
    "import pandas as pd\n",
    "import networkx as nx"
   ]
  },
  {
   "cell_type": "code",
   "execution_count": 3,
   "metadata": {
    "collapsed": true
   },
   "outputs": [],
   "source": [
    "inpt = pd.read_csv('csv_example_messy_input.csv')\n",
    "otpt = pd.read_csv('output.csv')"
   ]
  },
  {
   "cell_type": "code",
   "execution_count": 4,
   "metadata": {},
   "outputs": [
    {
     "data": {
      "text/html": [
       "<div>\n",
       "<style>\n",
       "    .dataframe thead tr:only-child th {\n",
       "        text-align: right;\n",
       "    }\n",
       "\n",
       "    .dataframe thead th {\n",
       "        text-align: left;\n",
       "    }\n",
       "\n",
       "    .dataframe tbody tr th {\n",
       "        vertical-align: top;\n",
       "    }\n",
       "</style>\n",
       "<table border=\"1\" class=\"dataframe\">\n",
       "  <thead>\n",
       "    <tr style=\"text-align: right;\">\n",
       "      <th></th>\n",
       "      <th>Id</th>\n",
       "      <th>Site name</th>\n",
       "      <th>Address</th>\n",
       "      <th>Zip</th>\n",
       "      <th>Phone</th>\n",
       "    </tr>\n",
       "  </thead>\n",
       "  <tbody>\n",
       "    <tr>\n",
       "      <th>0</th>\n",
       "      <td>0</td>\n",
       "      <td>Salvation Army - Temple / Salvation Army</td>\n",
       "      <td>1 N Ogden Ave</td>\n",
       "      <td>NaN</td>\n",
       "      <td>2262649.0</td>\n",
       "    </tr>\n",
       "    <tr>\n",
       "      <th>1</th>\n",
       "      <td>1</td>\n",
       "      <td>Salvation Army - Temple / Salvation Army</td>\n",
       "      <td>1 N Ogden Ave</td>\n",
       "      <td>NaN</td>\n",
       "      <td>2262649.0</td>\n",
       "    </tr>\n",
       "    <tr>\n",
       "      <th>2</th>\n",
       "      <td>2</td>\n",
       "      <td>National Louis University - Dr. Effie O. Elli...</td>\n",
       "      <td>10 S Kedzie Ave</td>\n",
       "      <td>NaN</td>\n",
       "      <td>5339011.0</td>\n",
       "    </tr>\n",
       "    <tr>\n",
       "      <th>3</th>\n",
       "      <td>3</td>\n",
       "      <td>National Louis University - Dr. Effie O. Elli...</td>\n",
       "      <td>10 S Kedzie Ave</td>\n",
       "      <td>NaN</td>\n",
       "      <td>5339011.0</td>\n",
       "    </tr>\n",
       "    <tr>\n",
       "      <th>4</th>\n",
       "      <td>4</td>\n",
       "      <td>Board Trustees-City Colleges of Chicago - Oli...</td>\n",
       "      <td>10001 S Woodlawn Ave</td>\n",
       "      <td>NaN</td>\n",
       "      <td>2916100.0</td>\n",
       "    </tr>\n",
       "  </tbody>\n",
       "</table>\n",
       "</div>"
      ],
      "text/plain": [
       "   Id                                          Site name  \\\n",
       "0   0           Salvation Army - Temple / Salvation Army   \n",
       "1   1           Salvation Army - Temple / Salvation Army   \n",
       "2   2   National Louis University - Dr. Effie O. Elli...   \n",
       "3   3   National Louis University - Dr. Effie O. Elli...   \n",
       "4   4   Board Trustees-City Colleges of Chicago - Oli...   \n",
       "\n",
       "                 Address  Zip      Phone  \n",
       "0         1 N Ogden Ave   NaN  2262649.0  \n",
       "1         1 N Ogden Ave   NaN  2262649.0  \n",
       "2       10 S Kedzie Ave   NaN  5339011.0  \n",
       "3       10 S Kedzie Ave   NaN  5339011.0  \n",
       "4  10001 S Woodlawn Ave   NaN  2916100.0  "
      ]
     },
     "execution_count": 4,
     "metadata": {},
     "output_type": "execute_result"
    }
   ],
   "source": [
    "inpt.drop(['Source', 'Fax', 'Program Name', 'Length of Day', 'IDHS Provider ID', \n",
    "           'Agency', 'Neighborhood', 'Funded Enrollment', 'Executive Director', 'Center Director',\n",
    "          'Program Option', 'Number per Site EHS', 'Number per Site HS', 'Director',\n",
    "          'Head Start Fund', 'Progmod', 'Eearly Head Start Fund', 'CC fund', 'Website',\n",
    "          'ECE Available Programs', 'NAEYC Valid Until', 'NAEYC Program Id', 'Email Address',\n",
    "          'Ounce of Prevention Description', 'Purple binder service type',\n",
    "          'Column', 'Column2'], axis=1, inplace=True)\n",
    "inpt.head()"
   ]
  },
  {
   "cell_type": "code",
   "execution_count": 5,
   "metadata": {},
   "outputs": [
    {
     "data": {
      "text/html": [
       "<div>\n",
       "<style>\n",
       "    .dataframe thead tr:only-child th {\n",
       "        text-align: right;\n",
       "    }\n",
       "\n",
       "    .dataframe thead th {\n",
       "        text-align: left;\n",
       "    }\n",
       "\n",
       "    .dataframe tbody tr th {\n",
       "        vertical-align: top;\n",
       "    }\n",
       "</style>\n",
       "<table border=\"1\" class=\"dataframe\">\n",
       "  <thead>\n",
       "    <tr style=\"text-align: right;\">\n",
       "      <th></th>\n",
       "      <th>Cluster ID</th>\n",
       "      <th>Id</th>\n",
       "      <th>Site name</th>\n",
       "      <th>Address</th>\n",
       "      <th>Zip</th>\n",
       "      <th>Phone</th>\n",
       "    </tr>\n",
       "  </thead>\n",
       "  <tbody>\n",
       "    <tr>\n",
       "      <th>0</th>\n",
       "      <td>0</td>\n",
       "      <td>0</td>\n",
       "      <td>salvation army - temple / salvation army</td>\n",
       "      <td>1 n ogden ave</td>\n",
       "      <td>NaN</td>\n",
       "      <td>2262649.0</td>\n",
       "    </tr>\n",
       "    <tr>\n",
       "      <th>1</th>\n",
       "      <td>0</td>\n",
       "      <td>1</td>\n",
       "      <td>salvation army - temple / salvation army</td>\n",
       "      <td>1 n ogden ave</td>\n",
       "      <td>NaN</td>\n",
       "      <td>2262649.0</td>\n",
       "    </tr>\n",
       "    <tr>\n",
       "      <th>2</th>\n",
       "      <td>0</td>\n",
       "      <td>215</td>\n",
       "      <td>salvation army temple</td>\n",
       "      <td>1 n. ogden</td>\n",
       "      <td>NaN</td>\n",
       "      <td>2262649.0</td>\n",
       "    </tr>\n",
       "    <tr>\n",
       "      <th>3</th>\n",
       "      <td>0</td>\n",
       "      <td>509</td>\n",
       "      <td>salvation army - temple / salvation army</td>\n",
       "      <td>1 n ogden ave</td>\n",
       "      <td>NaN</td>\n",
       "      <td>2262649.0</td>\n",
       "    </tr>\n",
       "    <tr>\n",
       "      <th>4</th>\n",
       "      <td>0</td>\n",
       "      <td>510</td>\n",
       "      <td>salvation army - temple / salvation army</td>\n",
       "      <td>1 n ogden ave</td>\n",
       "      <td>NaN</td>\n",
       "      <td>2262649.0</td>\n",
       "    </tr>\n",
       "  </tbody>\n",
       "</table>\n",
       "</div>"
      ],
      "text/plain": [
       "   Cluster ID   Id                                 Site name        Address  \\\n",
       "0           0    0  salvation army - temple / salvation army  1 n ogden ave   \n",
       "1           0    1  salvation army - temple / salvation army  1 n ogden ave   \n",
       "2           0  215                     salvation army temple     1 n. ogden   \n",
       "3           0  509  salvation army - temple / salvation army  1 n ogden ave   \n",
       "4           0  510  salvation army - temple / salvation army  1 n ogden ave   \n",
       "\n",
       "   Zip      Phone  \n",
       "0  NaN  2262649.0  \n",
       "1  NaN  2262649.0  \n",
       "2  NaN  2262649.0  \n",
       "3  NaN  2262649.0  \n",
       "4  NaN  2262649.0  "
      ]
     },
     "execution_count": 5,
     "metadata": {},
     "output_type": "execute_result"
    }
   ],
   "source": [
    "otpt.drop(['Source', 'Fax', 'Program Name', 'Length of Day', 'IDHS Provider ID', \n",
    "           'Agency', 'Neighborhood', 'Funded Enrollment', 'Executive Director', 'Center Director',\n",
    "          'Program Option', 'Number per Site EHS', 'Number per Site HS', 'Director',\n",
    "          'Head Start Fund', 'Progmod', 'Eearly Head Start Fund', 'CC fund', 'Website',\n",
    "          'ECE Available Programs', 'NAEYC Valid Until', 'NAEYC Program Id', 'Email Address',\n",
    "          'Ounce of Prevention Description', 'Purple binder service type',\n",
    "          'Column', 'Column2'], axis=1, inplace=True)\n",
    "otpt.head()"
   ]
  },
  {
   "cell_type": "code",
   "execution_count": 8,
   "metadata": {},
   "outputs": [
    {
     "name": "stdout",
     "output_type": "stream",
     "text": [
      "CPU times: user 2min 56s, sys: 24 ms, total: 2min 56s\n",
      "Wall time: 2min 56s\n"
     ]
    }
   ],
   "source": [
    "%%time\n",
    "raw_graph = nx.Graph()\n",
    "thresh = 50\n",
    "for i in range(inpt.shape[0]):\n",
    "    for j in range(inpt.shape[0]):\n",
    "        dist = abs(inpt['Id'][i] - inpt['Id'][j])\n",
    "        if dist < thresh:\n",
    "            raw_graph.add_edge(inpt['Id'][i], inpt['Id'][j], distance=dist)"
   ]
  },
  {
   "cell_type": "code",
   "execution_count": 9,
   "metadata": {},
   "outputs": [
    {
     "name": "stdout",
     "output_type": "stream",
     "text": [
      "CPU times: user 1min 57s, sys: 44 ms, total: 1min 57s\n",
      "Wall time: 1min 57s\n"
     ]
    }
   ],
   "source": [
    "%%time\n",
    "er_graph = nx.Graph()\n",
    "thresh = 4\n",
    "for i in range(otpt.shape[0]):\n",
    "    for j in range(otpt.shape[0]):\n",
    "        dist = abs(otpt['Cluster ID'][i] - otpt['Cluster ID'][j])\n",
    "        if dist < thresh:\n",
    "            er_graph.add_edge(otpt['Id'][i], otpt['Id'][j], distance=dist)"
   ]
  },
  {
   "cell_type": "code",
   "execution_count": 11,
   "metadata": {
    "collapsed": true
   },
   "outputs": [],
   "source": [
    "inpt.to_csv('chris_input.csv', index=False)\n",
    "otpt.to_csv('chris_output.csv', index=False)"
   ]
  },
  {
   "cell_type": "code",
   "execution_count": 17,
   "metadata": {},
   "outputs": [],
   "source": [
    "temp = pd.DataFrame(list(er_graph.edges()))\n",
    "temp.to_csv('output_edges.csv', index=False)\n",
    "temp = pd.DataFrame(list(raw_graph.edges()))\n",
    "temp.to_csv('input_edges.csv', index=False)"
   ]
  },
  {
   "cell_type": "code",
   "execution_count": null,
   "metadata": {
    "collapsed": true
   },
   "outputs": [],
   "source": []
  }
 ],
 "metadata": {
  "kernelspec": {
   "display_name": "Python 3",
   "language": "python",
   "name": "python3"
  },
  "language_info": {
   "codemirror_mode": {
    "name": "ipython",
    "version": 3
   },
   "file_extension": ".py",
   "mimetype": "text/x-python",
   "name": "python",
   "nbconvert_exporter": "python",
   "pygments_lexer": "ipython3",
   "version": "3.6.2"
  }
 },
 "nbformat": 4,
 "nbformat_minor": 2
}
