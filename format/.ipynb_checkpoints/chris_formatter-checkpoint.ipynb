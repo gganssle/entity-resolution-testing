{
 "cells": [
  {
   "cell_type": "code",
   "execution_count": 73,
   "metadata": {
    "collapsed": true
   },
   "outputs": [],
   "source": [
    "import pandas as pd\n",
    "import networkx as nx"
   ]
  },
  {
   "cell_type": "code",
   "execution_count": 2,
   "metadata": {
    "collapsed": true
   },
   "outputs": [],
   "source": [
    "inpt1 = '../dedupe-examples/dedupe-examples-0.5/csv_example/csv_example_messy_input.csv'\n",
    "otpt1 = 'input.txt'\n",
    "inpt2 = '../dedupe/output.csv'\n",
    "otpt2 = 'output.txt'"
   ]
  },
  {
   "cell_type": "markdown",
   "metadata": {},
   "source": [
    "## raw data (duplicated)"
   ]
  },
  {
   "cell_type": "code",
   "execution_count": 3,
   "metadata": {
    "collapsed": true
   },
   "outputs": [],
   "source": [
    "inpt = pd.read_csv(inpt1)"
   ]
  },
  {
   "cell_type": "code",
   "execution_count": 24,
   "metadata": {},
   "outputs": [
    {
     "data": {
      "text/html": [
       "<div>\n",
       "<style>\n",
       "    .dataframe thead tr:only-child th {\n",
       "        text-align: right;\n",
       "    }\n",
       "\n",
       "    .dataframe thead th {\n",
       "        text-align: left;\n",
       "    }\n",
       "\n",
       "    .dataframe tbody tr th {\n",
       "        vertical-align: top;\n",
       "    }\n",
       "</style>\n",
       "<table border=\"1\" class=\"dataframe\">\n",
       "  <thead>\n",
       "    <tr style=\"text-align: right;\">\n",
       "      <th></th>\n",
       "      <th>Id</th>\n",
       "      <th>Site name</th>\n",
       "      <th>Address</th>\n",
       "      <th>Zip</th>\n",
       "      <th>Phone</th>\n",
       "    </tr>\n",
       "  </thead>\n",
       "  <tbody>\n",
       "    <tr>\n",
       "      <th>0</th>\n",
       "      <td>0</td>\n",
       "      <td>Salvation Army - Temple / Salvation Army</td>\n",
       "      <td>1 N Ogden Ave</td>\n",
       "      <td>NaN</td>\n",
       "      <td>2262649.0</td>\n",
       "    </tr>\n",
       "    <tr>\n",
       "      <th>1</th>\n",
       "      <td>1</td>\n",
       "      <td>Salvation Army - Temple / Salvation Army</td>\n",
       "      <td>1 N Ogden Ave</td>\n",
       "      <td>NaN</td>\n",
       "      <td>2262649.0</td>\n",
       "    </tr>\n",
       "    <tr>\n",
       "      <th>2</th>\n",
       "      <td>2</td>\n",
       "      <td>National Louis University - Dr. Effie O. Elli...</td>\n",
       "      <td>10 S Kedzie Ave</td>\n",
       "      <td>NaN</td>\n",
       "      <td>5339011.0</td>\n",
       "    </tr>\n",
       "    <tr>\n",
       "      <th>3</th>\n",
       "      <td>3</td>\n",
       "      <td>National Louis University - Dr. Effie O. Elli...</td>\n",
       "      <td>10 S Kedzie Ave</td>\n",
       "      <td>NaN</td>\n",
       "      <td>5339011.0</td>\n",
       "    </tr>\n",
       "    <tr>\n",
       "      <th>4</th>\n",
       "      <td>4</td>\n",
       "      <td>Board Trustees-City Colleges of Chicago - Oli...</td>\n",
       "      <td>10001 S Woodlawn Ave</td>\n",
       "      <td>NaN</td>\n",
       "      <td>2916100.0</td>\n",
       "    </tr>\n",
       "  </tbody>\n",
       "</table>\n",
       "</div>"
      ],
      "text/plain": [
       "   Id                                          Site name  \\\n",
       "0   0           Salvation Army - Temple / Salvation Army   \n",
       "1   1           Salvation Army - Temple / Salvation Army   \n",
       "2   2   National Louis University - Dr. Effie O. Elli...   \n",
       "3   3   National Louis University - Dr. Effie O. Elli...   \n",
       "4   4   Board Trustees-City Colleges of Chicago - Oli...   \n",
       "\n",
       "                 Address  Zip      Phone  \n",
       "0         1 N Ogden Ave   NaN  2262649.0  \n",
       "1         1 N Ogden Ave   NaN  2262649.0  \n",
       "2       10 S Kedzie Ave   NaN  5339011.0  \n",
       "3       10 S Kedzie Ave   NaN  5339011.0  \n",
       "4  10001 S Woodlawn Ave   NaN  2916100.0  "
      ]
     },
     "execution_count": 24,
     "metadata": {},
     "output_type": "execute_result"
    }
   ],
   "source": [
    "inpt.drop(['Source', 'Fax', 'Program Name', 'Length of Day', 'IDHS Provider ID', \n",
    "           'Agency', 'Neighborhood', 'Funded Enrollment', 'Executive Director', 'Center Director',\n",
    "          'Program Option', 'Number per Site EHS', 'Number per Site HS', 'Director',\n",
    "          'Head Start Fund', 'Progmod', 'Eearly Head Start Fund', 'CC fund', 'Website',\n",
    "          'ECE Available Programs', 'NAEYC Valid Until', 'NAEYC Program Id', 'Email Address',\n",
    "          'Ounce of Prevention Description', 'Purple binder service type',\n",
    "          'Column', 'Column2'], axis=1, inplace=True)\n",
    "inpt.head()"
   ]
  },
  {
   "cell_type": "code",
   "execution_count": 26,
   "metadata": {},
   "outputs": [
    {
     "data": {
      "text/plain": [
       "(3337, 5)"
      ]
     },
     "execution_count": 26,
     "metadata": {},
     "output_type": "execute_result"
    }
   ],
   "source": [
    "inpt.shape"
   ]
  },
  {
   "cell_type": "markdown",
   "metadata": {},
   "source": [
    "Calculate edges here so we can pop 'em in the JSON."
   ]
  },
  {
   "cell_type": "code",
   "execution_count": 76,
   "metadata": {},
   "outputs": [
    {
     "name": "stdout",
     "output_type": "stream",
     "text": [
      "CPU times: user 3min 7s, sys: 16 ms, total: 3min 7s\n",
      "Wall time: 3min 7s\n"
     ]
    }
   ],
   "source": [
    "%%time\n",
    "raw_graph = nx.Graph()\n",
    "thresh = 50\n",
    "for i in range(inpt.shape[0]):\n",
    "    for j in range(inpt.shape[0]):\n",
    "        dist = abs(inpt['Id'][i] - inpt['Id'][j])\n",
    "        if dist < thresh:\n",
    "            raw_graph.add_edge(inpt['Id'][i], inpt['Id'][j], distance=dist)"
   ]
  },
  {
   "cell_type": "code",
   "execution_count": null,
   "metadata": {},
   "outputs": [],
   "source": [
    "%%time\n",
    "\n",
    "with open(otpt1, 'w') as f:\n",
    "    f.write('const graph = {\\n')\n",
    "    f.write('\\tnodes: [\\n')\n",
    "    for i in list(inpt['Id']):\n",
    "#    for i in range(3):\n",
    "        s = ''.join((\n",
    "                '\\t\\t{\\n\\t\\tid: \"', str(i), '\",\\n', '\\t\\tlabel: \"', str(inpt['Site name'].iloc[i]), \n",
    "                '\",\\n', \n",
    "                '\\t\\tmass: 200,\\n\\t\\traw: {address: \"', str(inpt['Address'].iloc[i]), \n",
    "                '\", ', 'zip:\"', str(inpt['Zip'].iloc[i]),\n",
    "                '\", phone: \"', str(inpt['Phone'].iloc[i]), '\"},',  '\\n', \n",
    "                '\\t\\tsize: 26, \\n\\t\\ttype: \"school\"\\n\\t},'\n",
    "                ))\n",
    "        f.write(s)\n",
    "        f.write('\\n')\n",
    "    f.write('\\t],\\n')\n",
    "    \n",
    "with open(otpt1, 'a') as f:\n",
    "    f.write('\\tedges: [\\n')\n",
    "    for i in range(len(list(raw_graph.edges()))):\n",
    "#    for i in range(3):\n",
    "        s = ''.join((\n",
    "                '\\t\\t{id: \"', str(list(raw_graph.edges())[i][0]), '\", from: \"', \n",
    "                str(list(raw_graph.edges())[i][0]), '\", to: \"', str(list(raw_graph.edges())[i][1]),\n",
    "                '\", type: \"edge\"},\\n'\n",
    "        ))\n",
    "        f.write(s)\n",
    "    f.write('\\t]\\n}')"
   ]
  },
  {
   "cell_type": "markdown",
   "metadata": {},
   "source": [
    "## Clean data (deduplicated)"
   ]
  },
  {
   "cell_type": "code",
   "execution_count": null,
   "metadata": {
    "collapsed": true
   },
   "outputs": [],
   "source": [
    "inpt = pd.read_csv(inpt2)"
   ]
  },
  {
   "cell_type": "code",
   "execution_count": null,
   "metadata": {
    "collapsed": true
   },
   "outputs": [],
   "source": [
    "inpt.drop(['Source', 'Fax', 'Program Name', 'Length of Day', 'IDHS Provider ID', \n",
    "           'Agency', 'Neighborhood', 'Funded Enrollment', 'Executive Director', 'Center Director',\n",
    "          'Program Option', 'Number per Site EHS', 'Number per Site HS', 'Director',\n",
    "          'Head Start Fund', 'Progmod', 'Eearly Head Start Fund', 'CC fund', 'Website',\n",
    "          'ECE Available Programs', 'NAEYC Valid Until', 'NAEYC Program Id', 'Email Address',\n",
    "          'Ounce of Prevention Description', 'Purple binder service type',\n",
    "          'Column', 'Column2'], axis=1, inplace=True)\n",
    "inpt.head()"
   ]
  },
  {
   "cell_type": "code",
   "execution_count": null,
   "metadata": {
    "collapsed": true
   },
   "outputs": [],
   "source": [
    "inpt.shape"
   ]
  },
  {
   "cell_type": "markdown",
   "metadata": {},
   "source": [
    "Calculate edges here so we can pop 'em in the JSON. "
   ]
  },
  {
   "cell_type": "code",
   "execution_count": null,
   "metadata": {
    "collapsed": true
   },
   "outputs": [],
   "source": [
    "%%time\n",
    "raw_graph = nx.Graph()\n",
    "thresh = 50\n",
    "for i in range(inpt.shape[0]):\n",
    "    for j in range(inpt.shape[0]):\n",
    "        dist = abs(inpt['Id'][i] - inpt['Id'][j])\n",
    "        if dist < thresh:\n",
    "            raw_graph.add_edge(inpt['Id'][i], inpt['Id'][j], distance=dist)"
   ]
  },
  {
   "cell_type": "code",
   "execution_count": null,
   "metadata": {
    "collapsed": true
   },
   "outputs": [],
   "source": [
    "%%time\n",
    "\n",
    "with open(otpt2, 'w') as f:\n",
    "    f.write('const graph = {\\n')\n",
    "    f.write('\\tnodes: [\\n')\n",
    "    for i in list(inpt['Id']):\n",
    "#    for i in range(3):\n",
    "        s = ''.join((\n",
    "                '\\t\\t{\\n\\t\\tid: \"', str(i), '\",\\n', '\\t\\tlabel: \"', str(inpt['Site name'].iloc[i]), \n",
    "                '\",\\n', \n",
    "                '\\t\\tmass: 200,\\n\\t\\traw: {address: \"', str(inpt['Address'].iloc[i]), \n",
    "                '\", ', 'zip:\"', str(inpt['Zip'].iloc[i]),\n",
    "                '\", phone: \"', str(inpt['Phone'].iloc[i]), '\"},',  '\\n', \n",
    "                '\\t\\tsize: 26, \\n\\t\\ttype: \"school\"\\n\\t},'\n",
    "                ))\n",
    "        f.write(s)\n",
    "        f.write('\\n')\n",
    "    f.write('\\t],\\n')\n",
    "    \n",
    "with open(otpt2, 'a') as f:\n",
    "    f.write('\\tedges: [\\n')\n",
    "    for i in range(len(list(raw_graph.edges()))):\n",
    "#    for i in range(3):\n",
    "        s = ''.join((\n",
    "                '\\t\\t{id: \"', str(list(raw_graph.edges())[i][0]), '\", from: \"', \n",
    "                str(list(raw_graph.edges())[i][0]), '\", to: \"', str(list(raw_graph.edges())[i][1]),\n",
    "                '\", type: \"edge\"},\\n'\n",
    "        ))\n",
    "        f.write(s)\n",
    "    f.write('\\t]\\n}')"
   ]
  }
 ],
 "metadata": {
  "kernelspec": {
   "display_name": "Python 3",
   "language": "python",
   "name": "python3"
  },
  "language_info": {
   "codemirror_mode": {
    "name": "ipython",
    "version": 3
   },
   "file_extension": ".py",
   "mimetype": "text/x-python",
   "name": "python",
   "nbconvert_exporter": "python",
   "pygments_lexer": "ipython3",
   "version": "3.6.2"
  }
 },
 "nbformat": 4,
 "nbformat_minor": 2
}
